{
  "nbformat": 4,
  "nbformat_minor": 0,
  "metadata": {
    "colab": {
      "name": "GABRIELA- 05 - Guía de ejercicios 2.ipynb",
      "provenance": [],
      "collapsed_sections": [],
      "toc_visible": true,
      "include_colab_link": true
    },
    "kernelspec": {
      "name": "python3",
      "display_name": "Python 3"
    },
    "language_info": {
      "name": "python"
    }
  },
  "cells": [
    {
      "cell_type": "markdown",
      "metadata": {
        "id": "view-in-github",
        "colab_type": "text"
      },
      "source": [
        "<a href=\"https://colab.research.google.com/github/gabrod2021/desafio-postulantes/blob/main/GABRIELA_05_Gu%C3%ADa_de_ejercicios_2.ipynb\" target=\"_parent\"><img src=\"https://colab.research.google.com/assets/colab-badge.svg\" alt=\"Open In Colab\"/></a>"
      ]
    },
    {
      "cell_type": "markdown",
      "metadata": {
        "id": "tyBBhfCzb1bW"
      },
      "source": [
        "#Guía de ejercicios N° 2\n",
        "**Ejercicio 1**\n",
        "\n",
        "Crear un programa que pida al usuario su edad y muestre por pantalla si es mayor de edad o no.\n"
      ]
    },
    {
      "cell_type": "code",
      "metadata": {
        "id": "lCINR-d1LE_v",
        "colab": {
          "base_uri": "https://localhost:8080/"
        },
        "outputId": "e2ae435f-0b87-493f-a7e0-cb58f7ab98ad"
      },
      "source": [
        "edad=int(input(\"Ingrese su edad: \"))\n",
        "if edad >= 18:\n",
        "  print(\"Puede ingresar\")\n",
        "else:\n",
        "  print(\"No puede ingresar\")\n",
        "\n"
      ],
      "execution_count": null,
      "outputs": [
        {
          "output_type": "stream",
          "name": "stdout",
          "text": [
            "Ingrese su edad: 18\n",
            "Puede ingresar\n"
          ]
        }
      ]
    },
    {
      "cell_type": "markdown",
      "metadata": {
        "id": "sJ-CV-jocRKY"
      },
      "source": [
        "**Ejercicio 2**\n",
        "\n",
        "Crear un programa que almacene en dos variables cadenas de caracteres como nombre y contraseña.\n",
        "Preguntar al usuario su nombre de usuario y contraseña. Mostrar por pantalla si las entradas fueron correctas o incorrectas."
      ]
    },
    {
      "cell_type": "code",
      "metadata": {
        "id": "CSwjjQwqc0yT",
        "colab": {
          "base_uri": "https://localhost:8080/"
        },
        "outputId": "5d14b107-3d1b-4f13-f030-09c8ae7c2373"
      },
      "source": [
        "usuario=input(\"Ingrese su nombre de usuario: \")\n",
        "contraseña=input(\"Ingrese su contraseña: \")\n",
        "\n",
        "if usuario.isalpha()==True:\n",
        "  print(\"Usuario ok\")\n",
        "else:\n",
        "  print(\"Usuario erroneo\")\n",
        "\n",
        "if contraseña.isalnum()==True:\n",
        "  print(\"Contraseña ok\")\n",
        "else:\n",
        "  print(\"Contraseña erronea\")"
      ],
      "execution_count": null,
      "outputs": [
        {
          "output_type": "stream",
          "name": "stdout",
          "text": [
            "Ingrese su nombre de usuario: 125\n",
            "Ingrese su contraseña: rrrr\n",
            "Usuario erroneo\n",
            "Contraseña ok\n"
          ]
        }
      ]
    },
    {
      "cell_type": "markdown",
      "metadata": {
        "id": "wQbtbDOVc1NH"
      },
      "source": [
        "**Ejercicio 3**\n",
        "\n",
        "Crear un programa que pida al usuario dos números y muestre por pantalla el resultado de la división. Si el dividor ingresado es cero, mostrar un mensaje de advertencia."
      ]
    },
    {
      "cell_type": "code",
      "metadata": {
        "id": "59UyymuVdJW1",
        "colab": {
          "base_uri": "https://localhost:8080/"
        },
        "outputId": "d944fb80-e1b1-43c4-f784-69e3a576a742"
      },
      "source": [
        "num1=int(input(\"Ingrese un numero: \"))\n",
        "num2=int(input(\"Ingrese otro numero: \"))\n",
        "\n",
        "if num2==0:\n",
        "   print(\"ERROR!-(Division por 0)\")\n",
        "else:\n",
        "  resul=num1/num2\n",
        "  print(\"El resultado es: \",resul)\n",
        "  "
      ],
      "execution_count": null,
      "outputs": [
        {
          "output_type": "stream",
          "name": "stdout",
          "text": [
            "Ingrese un numero: 4\n",
            "Ingrese otro numero: 0\n",
            "ERROR!-(Division por 0)\n"
          ]
        }
      ]
    },
    {
      "cell_type": "markdown",
      "metadata": {
        "id": "kYzVVo_gdJwd"
      },
      "source": [
        "**Ejercicio 4**\n",
        "\n",
        "Crear un programa que pida al usuario un número entero y muestre por pantalla si es par o impar."
      ]
    },
    {
      "cell_type": "code",
      "metadata": {
        "id": "ZQf9E-DddT56",
        "colab": {
          "base_uri": "https://localhost:8080/"
        },
        "outputId": "39f12a1c-0c7e-4637-c876-9c0a127c07d8"
      },
      "source": [
        "entero=int(input(\"Ingrese un numero entero: \"))\n",
        "if entero % 2 == 0:\n",
        "  print(\"Es par\")\n",
        "else:\n",
        "  print(\"Es im\n",
        "  par\")"
      ],
      "execution_count": null,
      "outputs": [
        {
          "output_type": "stream",
          "name": "stdout",
          "text": [
            "Ingrese un numero entero: 12\n",
            "Es par\n"
          ]
        }
      ]
    },
    {
      "cell_type": "markdown",
      "metadata": {
        "id": "VqR1WaUfdUWW"
      },
      "source": [
        "**Ejercicio 5**\n",
        "\n",
        "(Admite varios modos de resolverlo y diferentes niveles de complejidad )\n",
        "\n",
        "En una empresa se realiza una evaluación de desempeño de empleados que se refleja en el monto del bono de fin de año. Cuanto más alto es el puntaje del empleado, mayores los beneficios.\n",
        "\n",
        "Niveles de rendimiento y puntajes posibles (no hay niveles ni puntajes intermedios):\n",
        "*   Inaceptable: 0.0\n",
        "*   Aceptable: 0.4\n",
        "*   Meritorio: 0.6, 0.8 y 1.0\n",
        "\n",
        "El monto base del bono es de $100.000, y el extra por desempeño se calcula como el monto base multiplicado por el puntaje. El total es la suma del monto base más el extra por desempeño.\n",
        "\n",
        "Crear un programa que lea la puntuación de un empleado, muestre su nivel de rendimiento y la cantidad de dinero a recibir.\n",
        "\n",
        "\n",
        "\n",
        "\n"
      ]
    },
    {
      "cell_type": "code",
      "metadata": {
        "id": "dB_INDXRgIna",
        "colab": {
          "base_uri": "https://localhost:8080/"
        },
        "outputId": "27cb1964-b064-4f24-8715-61dd56874a91"
      },
      "source": [
        "monto_base=100000\n",
        "puntaje=float(input(\"Ingresar puntaje: \"))\n",
        "\n",
        "def monto_total(monto_base,puntaje):\n",
        "  monto_base+=monto_base*puntaje\n",
        "  return monto_base\n",
        "\n",
        "def valida_puntos(puntaje):\n",
        "  if puntaje!= 0.6 and puntaje!=0.8 and puntaje!= 1.0 and puntaje!=0.4 and puntaje!=0.0:\n",
        "   print(\"Puntaje invalido\")\n",
        "  else:\n",
        "    imprime_mensaje()\n",
        "\n",
        "def puntuacion(monto_base,puntaje):\n",
        " if puntaje==0.6 or puntaje== 0.8 or puntaje==1.0:\n",
        "   print(\"Meritorio\")\n",
        " elif puntaje==0.4:\n",
        "   print(\"Aceptable\")\n",
        " elif puntaje==0.0:\n",
        "   print(\"Inaceptable\")\n",
        "\n",
        "def imprime_mensaje():\n",
        "  print(\"Dinero a recibir: \", \"$\",monto_total(monto_base,puntaje))\n",
        "\n",
        "\n",
        "puntuacion(monto_base,puntaje)\n",
        "\n",
        "valida_puntos(puntaje)\n",
        "\n"
      ],
      "execution_count": null,
      "outputs": [
        {
          "output_type": "stream",
          "name": "stdout",
          "text": [
            "Ingresar puntaje: 0.8\n",
            "Meritorio\n",
            "Dinero a recibir:  $ 180000.0\n"
          ]
        }
      ]
    },
    {
      "cell_type": "markdown",
      "metadata": {
        "id": "UD22Hk9HgJM4"
      },
      "source": [
        "**Ejercicio 6**\n",
        "\n",
        "Una sala de juegos tiene un tarifario por edades.\n",
        "Crear un programa que pregunte la edad del cliente y muestre el precio del abono.\n",
        "\n",
        "Si el cliente es menor de 4 años, puede entrar gratis.\n",
        "\n",
        "Si tiene entre 4 y 18 años, debe pagar $1500.\n",
        "\n",
        "Los mayores de edad pagan $3000.\n"
      ]
    },
    {
      "cell_type": "code",
      "metadata": {
        "id": "inP8w452gzhj",
        "colab": {
          "base_uri": "https://localhost:8080/"
        },
        "outputId": "2d37b38e-22ce-405a-eece-e148e5e9d762"
      },
      "source": [
        "edad=int(input(\"Ingrese su edad: \"))\n",
        "\n",
        "if edad >= 18 :\n",
        "  print(\"Su abono es de $3000\")\n",
        "elif edad >= 4 and edad < 18:\n",
        "  print(\"Su abono es de $1500\")\n",
        "else:\n",
        "  print(\"Entra gratis\")"
      ],
      "execution_count": 5,
      "outputs": [
        {
          "output_type": "stream",
          "name": "stdout",
          "text": [
            "Ingrese su edad: 3\n",
            "Entra gratis\n"
          ]
        }
      ]
    },
    {
      "cell_type": "markdown",
      "metadata": {
        "id": "fhAfOeucgzu_"
      },
      "source": [
        "**Ejercicio 7**\n",
        "\n",
        "Crear un programa que pregunte la edad del usuario y muestre por pantalla un contador desde el 1 hasta la edad introducida."
      ]
    },
    {
      "cell_type": "code",
      "metadata": {
        "id": "IWnxdFx0hHDy",
        "colab": {
          "base_uri": "https://localhost:8080/"
        },
        "outputId": "1727ecf5-e999-4737-c459-aa6fd0a1fb73"
      },
      "source": [
        "edad=int(input(\"Ingrese su edad: \"))\n",
        "\n",
        "for n in range(1,edad+1,1):\n",
        "  print(n)"
      ],
      "execution_count": 13,
      "outputs": [
        {
          "output_type": "stream",
          "name": "stdout",
          "text": [
            "Ingrese su edad: 20\n",
            "1\n",
            "2\n",
            "3\n",
            "4\n",
            "5\n",
            "6\n",
            "7\n",
            "8\n",
            "9\n",
            "10\n",
            "11\n",
            "12\n",
            "13\n",
            "14\n",
            "15\n",
            "16\n",
            "17\n",
            "18\n",
            "19\n",
            "20\n"
          ]
        }
      ]
    },
    {
      "cell_type": "markdown",
      "metadata": {
        "id": "yP2wriPChHaq"
      },
      "source": [
        "**Ejercicio 8**\n",
        "\n",
        "Crear un programa que muestre todas las tablas de multiplicar desde la del 1 hasta la del 10."
      ]
    },
    {
      "cell_type": "code",
      "metadata": {
        "id": "tprCRi9XhWW0",
        "colab": {
          "base_uri": "https://localhost:8080/"
        },
        "outputId": "f83c906c-3c47-479b-891e-6ad468b353d5"
      },
      "source": [
        "\n",
        "tabla = 0\n",
        "\n",
        "while tabla < 10:\n",
        "    contador = 1\n",
        "    tabla+= 1\n",
        "    print()\n",
        "    print(\"TABLA DE MULTIPLICAR DEL:\",tabla)\n",
        "    print()\n",
        "    while contador <= 10:\n",
        "        print (contador,\"X\",tabla,\"=\",contador * tabla,)\n",
        "        contador+= 1 \n",
        "   \n",
        "\n",
        "for i in range(1,11):\n",
        " print()\n",
        " print(\"TABLA DE MULTIPLICAR DEL:\",i)\n",
        " print()\n",
        " for j in range(1,11):\n",
        "  print(i, \"X\" ,j ,\"=\", i*j)\n",
        "  print(end=\"\")\n",
        "\n"
      ],
      "execution_count": 83,
      "outputs": [
        {
          "output_type": "stream",
          "name": "stdout",
          "text": [
            "\n",
            "TABLA DE MULTIPLICAR DEL: 1\n",
            "\n",
            "1 X 1 = 1\n",
            "2 X 1 = 2\n",
            "3 X 1 = 3\n",
            "4 X 1 = 4\n",
            "5 X 1 = 5\n",
            "6 X 1 = 6\n",
            "7 X 1 = 7\n",
            "8 X 1 = 8\n",
            "9 X 1 = 9\n",
            "10 X 1 = 10\n",
            "\n",
            "TABLA DE MULTIPLICAR DEL: 2\n",
            "\n",
            "1 X 2 = 2\n",
            "2 X 2 = 4\n",
            "3 X 2 = 6\n",
            "4 X 2 = 8\n",
            "5 X 2 = 10\n",
            "6 X 2 = 12\n",
            "7 X 2 = 14\n",
            "8 X 2 = 16\n",
            "9 X 2 = 18\n",
            "10 X 2 = 20\n",
            "\n",
            "TABLA DE MULTIPLICAR DEL: 3\n",
            "\n",
            "1 X 3 = 3\n",
            "2 X 3 = 6\n",
            "3 X 3 = 9\n",
            "4 X 3 = 12\n",
            "5 X 3 = 15\n",
            "6 X 3 = 18\n",
            "7 X 3 = 21\n",
            "8 X 3 = 24\n",
            "9 X 3 = 27\n",
            "10 X 3 = 30\n",
            "\n",
            "TABLA DE MULTIPLICAR DEL: 4\n",
            "\n",
            "1 X 4 = 4\n",
            "2 X 4 = 8\n",
            "3 X 4 = 12\n",
            "4 X 4 = 16\n",
            "5 X 4 = 20\n",
            "6 X 4 = 24\n",
            "7 X 4 = 28\n",
            "8 X 4 = 32\n",
            "9 X 4 = 36\n",
            "10 X 4 = 40\n",
            "\n",
            "TABLA DE MULTIPLICAR DEL: 5\n",
            "\n",
            "1 X 5 = 5\n",
            "2 X 5 = 10\n",
            "3 X 5 = 15\n",
            "4 X 5 = 20\n",
            "5 X 5 = 25\n",
            "6 X 5 = 30\n",
            "7 X 5 = 35\n",
            "8 X 5 = 40\n",
            "9 X 5 = 45\n",
            "10 X 5 = 50\n",
            "\n",
            "TABLA DE MULTIPLICAR DEL: 6\n",
            "\n",
            "1 X 6 = 6\n",
            "2 X 6 = 12\n",
            "3 X 6 = 18\n",
            "4 X 6 = 24\n",
            "5 X 6 = 30\n",
            "6 X 6 = 36\n",
            "7 X 6 = 42\n",
            "8 X 6 = 48\n",
            "9 X 6 = 54\n",
            "10 X 6 = 60\n",
            "\n",
            "TABLA DE MULTIPLICAR DEL: 7\n",
            "\n",
            "1 X 7 = 7\n",
            "2 X 7 = 14\n",
            "3 X 7 = 21\n",
            "4 X 7 = 28\n",
            "5 X 7 = 35\n",
            "6 X 7 = 42\n",
            "7 X 7 = 49\n",
            "8 X 7 = 56\n",
            "9 X 7 = 63\n",
            "10 X 7 = 70\n",
            "\n",
            "TABLA DE MULTIPLICAR DEL: 8\n",
            "\n",
            "1 X 8 = 8\n",
            "2 X 8 = 16\n",
            "3 X 8 = 24\n",
            "4 X 8 = 32\n",
            "5 X 8 = 40\n",
            "6 X 8 = 48\n",
            "7 X 8 = 56\n",
            "8 X 8 = 64\n",
            "9 X 8 = 72\n",
            "10 X 8 = 80\n",
            "\n",
            "TABLA DE MULTIPLICAR DEL: 9\n",
            "\n",
            "1 X 9 = 9\n",
            "2 X 9 = 18\n",
            "3 X 9 = 27\n",
            "4 X 9 = 36\n",
            "5 X 9 = 45\n",
            "6 X 9 = 54\n",
            "7 X 9 = 63\n",
            "8 X 9 = 72\n",
            "9 X 9 = 81\n",
            "10 X 9 = 90\n",
            "\n",
            "TABLA DE MULTIPLICAR DEL: 10\n",
            "\n",
            "1 X 10 = 10\n",
            "2 X 10 = 20\n",
            "3 X 10 = 30\n",
            "4 X 10 = 40\n",
            "5 X 10 = 50\n",
            "6 X 10 = 60\n",
            "7 X 10 = 70\n",
            "8 X 10 = 80\n",
            "9 X 10 = 90\n",
            "10 X 10 = 100\n",
            "\n",
            "TABLA DE MULTIPLICAR DEL: 1\n",
            "\n",
            "1 X 1 = 1\n",
            "1 X 2 = 2\n",
            "1 X 3 = 3\n",
            "1 X 4 = 4\n",
            "1 X 5 = 5\n",
            "1 X 6 = 6\n",
            "1 X 7 = 7\n",
            "1 X 8 = 8\n",
            "1 X 9 = 9\n",
            "1 X 10 = 10\n",
            "\n",
            "TABLA DE MULTIPLICAR DEL: 2\n",
            "\n",
            "2 X 1 = 2\n",
            "2 X 2 = 4\n",
            "2 X 3 = 6\n",
            "2 X 4 = 8\n",
            "2 X 5 = 10\n",
            "2 X 6 = 12\n",
            "2 X 7 = 14\n",
            "2 X 8 = 16\n",
            "2 X 9 = 18\n",
            "2 X 10 = 20\n",
            "\n",
            "TABLA DE MULTIPLICAR DEL: 3\n",
            "\n",
            "3 X 1 = 3\n",
            "3 X 2 = 6\n",
            "3 X 3 = 9\n",
            "3 X 4 = 12\n",
            "3 X 5 = 15\n",
            "3 X 6 = 18\n",
            "3 X 7 = 21\n",
            "3 X 8 = 24\n",
            "3 X 9 = 27\n",
            "3 X 10 = 30\n",
            "\n",
            "TABLA DE MULTIPLICAR DEL: 4\n",
            "\n",
            "4 X 1 = 4\n",
            "4 X 2 = 8\n",
            "4 X 3 = 12\n",
            "4 X 4 = 16\n",
            "4 X 5 = 20\n",
            "4 X 6 = 24\n",
            "4 X 7 = 28\n",
            "4 X 8 = 32\n",
            "4 X 9 = 36\n",
            "4 X 10 = 40\n",
            "\n",
            "TABLA DE MULTIPLICAR DEL: 5\n",
            "\n",
            "5 X 1 = 5\n",
            "5 X 2 = 10\n",
            "5 X 3 = 15\n",
            "5 X 4 = 20\n",
            "5 X 5 = 25\n",
            "5 X 6 = 30\n",
            "5 X 7 = 35\n",
            "5 X 8 = 40\n",
            "5 X 9 = 45\n",
            "5 X 10 = 50\n",
            "\n",
            "TABLA DE MULTIPLICAR DEL: 6\n",
            "\n",
            "6 X 1 = 6\n",
            "6 X 2 = 12\n",
            "6 X 3 = 18\n",
            "6 X 4 = 24\n",
            "6 X 5 = 30\n",
            "6 X 6 = 36\n",
            "6 X 7 = 42\n",
            "6 X 8 = 48\n",
            "6 X 9 = 54\n",
            "6 X 10 = 60\n",
            "\n",
            "TABLA DE MULTIPLICAR DEL: 7\n",
            "\n",
            "7 X 1 = 7\n",
            "7 X 2 = 14\n",
            "7 X 3 = 21\n",
            "7 X 4 = 28\n",
            "7 X 5 = 35\n",
            "7 X 6 = 42\n",
            "7 X 7 = 49\n",
            "7 X 8 = 56\n",
            "7 X 9 = 63\n",
            "7 X 10 = 70\n",
            "\n",
            "TABLA DE MULTIPLICAR DEL: 8\n",
            "\n",
            "8 X 1 = 8\n",
            "8 X 2 = 16\n",
            "8 X 3 = 24\n",
            "8 X 4 = 32\n",
            "8 X 5 = 40\n",
            "8 X 6 = 48\n",
            "8 X 7 = 56\n",
            "8 X 8 = 64\n",
            "8 X 9 = 72\n",
            "8 X 10 = 80\n",
            "\n",
            "TABLA DE MULTIPLICAR DEL: 9\n",
            "\n",
            "9 X 1 = 9\n",
            "9 X 2 = 18\n",
            "9 X 3 = 27\n",
            "9 X 4 = 36\n",
            "9 X 5 = 45\n",
            "9 X 6 = 54\n",
            "9 X 7 = 63\n",
            "9 X 8 = 72\n",
            "9 X 9 = 81\n",
            "9 X 10 = 90\n",
            "\n",
            "TABLA DE MULTIPLICAR DEL: 10\n",
            "\n",
            "10 X 1 = 10\n",
            "10 X 2 = 20\n",
            "10 X 3 = 30\n",
            "10 X 4 = 40\n",
            "10 X 5 = 50\n",
            "10 X 6 = 60\n",
            "10 X 7 = 70\n",
            "10 X 8 = 80\n",
            "10 X 9 = 90\n",
            "10 X 10 = 100\n"
          ]
        }
      ]
    },
    {
      "cell_type": "markdown",
      "metadata": {
        "id": "QBNSiX6_hXEw"
      },
      "source": [
        "**Ejercicio 9**\n",
        "\n",
        "Crear un programa que pida al usuario una palabra, y luego muestre las letras de la palabra introducida una por una y empezando por la última."
      ]
    },
    {
      "cell_type": "code",
      "metadata": {
        "id": "hRoY7QnVh0_1",
        "colab": {
          "base_uri": "https://localhost:8080/"
        },
        "outputId": "95cfae07-dc31-4e0f-b62b-b03bb88eef6d"
      },
      "source": [
        "palabra=input(\"Ingrese una palabra:\")\n",
        "list(palabra)\n",
        "for e in reversed(palabra):\n",
        "  print(e,end=\"-\")"
      ],
      "execution_count": 105,
      "outputs": [
        {
          "output_type": "stream",
          "name": "stdout",
          "text": [
            "Ingrese una palabra:espinaca\n",
            "a-c-a-n-i-p-s-e-"
          ]
        }
      ]
    },
    {
      "cell_type": "markdown",
      "metadata": {
        "id": "KgfdP28ph1X7"
      },
      "source": [
        "**Ejercicio 10**\n",
        "\n",
        "Crear un programa en el que se pregunte al usuario por una palabra y una letra, y muestre por pantalla el número de veces que aparece la letra en la frase."
      ]
    },
    {
      "cell_type": "code",
      "metadata": {
        "id": "KY8dZMPgiLe3",
        "colab": {
          "base_uri": "https://localhost:8080/"
        },
        "outputId": "e9693e4e-0ba0-4c72-d2c8-5d02915d2277"
      },
      "source": [
        "palabra=input(\"Ingrese una palabra:\")\n",
        "letra=input(\"Ingrese una letra:\")\n",
        "print(\"La letra\",letra,\"aparece\",palabra.count(letra),\"veces en la palabra\")"
      ],
      "execution_count": 8,
      "outputs": [
        {
          "output_type": "stream",
          "name": "stdout",
          "text": [
            "Ingrese una palabra:gabriela\n",
            "Ingrese una letra:a\n",
            "La letra a aparece 2 veces en la palabra\n"
          ]
        }
      ]
    },
    {
      "cell_type": "markdown",
      "metadata": {
        "id": "52CHXPxniL--"
      },
      "source": [
        "**Ejercicio 11**\n",
        "\n",
        "Crear un programa que muestre el eco (repita en pantalla) todo lo que el usuario introduce por teclado, hasta que el usuario escriba \"salir\"."
      ]
    },
    {
      "cell_type": "code",
      "metadata": {
        "id": "8ZL59JP_i6t_"
      },
      "source": [
        ""
      ],
      "execution_count": null,
      "outputs": []
    },
    {
      "cell_type": "markdown",
      "metadata": {
        "id": "WfndETHNi7N6"
      },
      "source": [
        "**Ejercicio 12**\n",
        "\n",
        "Crear un programa que almacene las asignaturas de un curso (por ejemplo Matemáticas, Física, Química, Historia y Lengua) en una lista y muestre por pantalla el mensaje \"`Yo estudio [nombre_de_la_asignatura]`\". Una línea por cada asignatura."
      ]
    },
    {
      "cell_type": "code",
      "metadata": {
        "id": "ht3HfRAZjxVF",
        "colab": {
          "base_uri": "https://localhost:8080/"
        },
        "outputId": "888bd807-1eb4-4246-fc82-e6c36b4c61e6"
      },
      "source": [
        "asig=[\"Matematicas\",\"Física\", \"Química\", \"Historia\" , \"Lengua\"]\n",
        "\n",
        "for i in asig:\n",
        "  print(\"Yo estudio\",[i])"
      ],
      "execution_count": 10,
      "outputs": [
        {
          "output_type": "stream",
          "name": "stdout",
          "text": [
            "Yo estudio ['Matematicas']\n",
            "Yo estudio ['Física']\n",
            "Yo estudio ['Química']\n",
            "Yo estudio ['Historia']\n",
            "Yo estudio ['Lengua']\n"
          ]
        }
      ]
    },
    {
      "cell_type": "markdown",
      "metadata": {
        "id": "EI9zJwEqj3-3"
      },
      "source": [
        "**Ejercicio 13**\n",
        "\n",
        "Crear un programa que guarde en un diccionario los precios de las frutas de la tabla, pregunte al usuario por una fruta, los kilos y muestre por pantalla el precio. Si la fruta no está en el diccionario, mostrar un mensaje.\n",
        "\n",
        "```\n",
        "Fruta       Precio\n",
        "===================\n",
        "Banana         80\n",
        "Manzana       100\n",
        "Pera           50\n",
        "Naranja        70\n",
        "```"
      ]
    },
    {
      "cell_type": "code",
      "metadata": {
        "id": "byZrJkKPlNlM"
      },
      "source": [
        ""
      ],
      "execution_count": null,
      "outputs": []
    },
    {
      "cell_type": "markdown",
      "metadata": {
        "id": "_q8o0gTblNzB"
      },
      "source": [
        "**Ejercicio 14**\n",
        "\n",
        "Crear un programa que almacene el diccionario con los créditos de las asignaturas de un curso (por ejemplo: `{'Matemáticas':6, 'Física':4, 'Química':5}` y después muestre por pantalla los créditos de cada asignatura con el siguiente formato:\n",
        "\n",
        "`[asignatura] tiene [creditos] créditos.`\n",
        "\n",
        "Al final debe mostrar la suma de los créditos del curso."
      ]
    },
    {
      "cell_type": "code",
      "metadata": {
        "id": "hFc_GSYul6Bh"
      },
      "source": [
        ""
      ],
      "execution_count": null,
      "outputs": []
    }
  ]
}