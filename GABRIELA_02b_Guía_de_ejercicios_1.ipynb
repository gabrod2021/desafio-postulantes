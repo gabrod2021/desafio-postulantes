{
  "nbformat": 4,
  "nbformat_minor": 0,
  "metadata": {
    "colab": {
      "name": "GABRIELA_02b- Guía de ejercicios 1.ipynb",
      "provenance": [],
      "collapsed_sections": [],
      "include_colab_link": true
    },
    "kernelspec": {
      "name": "python3",
      "display_name": "Python 3"
    },
    "language_info": {
      "name": "python"
    }
  },
  "cells": [
    {
      "cell_type": "markdown",
      "metadata": {
        "id": "view-in-github",
        "colab_type": "text"
      },
      "source": [
        "<a href=\"https://colab.research.google.com/github/gabrod2021/desafio-postulantes/blob/main/GABRIELA_02b_Gu%C3%ADa_de_ejercicios_1.ipynb\" target=\"_parent\"><img src=\"https://colab.research.google.com/assets/colab-badge.svg\" alt=\"Open In Colab\"/></a>"
      ]
    },
    {
      "cell_type": "markdown",
      "metadata": {
        "id": "dtmp2RNQKlWz"
      },
      "source": [
        "#Guía de ejercicios N° 1\n",
        "**Ejercicio 1**\n",
        "\n",
        "Crear un programa que imprima el mensaje \"Hola mundo!\" por pantalla"
      ]
    },
    {
      "cell_type": "code",
      "metadata": {
        "id": "TqOlPKsKK4Pu",
        "outputId": "b1c810ab-5b17-47f6-b37e-0541f88a4b6d",
        "colab": {
          "base_uri": "https://localhost:8080/"
        }
      },
      "source": [
        "print(\"Hola mundo!\")\n"
      ],
      "execution_count": null,
      "outputs": [
        {
          "output_type": "stream",
          "name": "stdout",
          "text": [
            "Hola mundo!\n"
          ]
        }
      ]
    },
    {
      "cell_type": "markdown",
      "metadata": {
        "id": "Bcue1GY4K4wN"
      },
      "source": [
        "**Ejercicio 2**\n",
        "\n",
        "Crear un programa que almacene el mensaje \"Hola mundo!\" en una variable y luego lo imprima por pantalla\n"
      ]
    },
    {
      "cell_type": "code",
      "metadata": {
        "id": "9nb3GWEKLMTy",
        "outputId": "8c344ef9-258b-4820-cb11-c11a63115188",
        "colab": {
          "base_uri": "https://localhost:8080/"
        }
      },
      "source": [
        "mensaje = \"Hola mundo!\"\n",
        "print(mensaje)"
      ],
      "execution_count": null,
      "outputs": [
        {
          "output_type": "stream",
          "name": "stdout",
          "text": [
            "Hola mundo!\n"
          ]
        }
      ]
    },
    {
      "cell_type": "markdown",
      "metadata": {
        "id": "YXe21jUiLM5-"
      },
      "source": [
        "**Ejercicio 3**\n",
        "\n",
        "Crear un programa que le pida al usuario nombre y edad e imprima ambos datos en renglones distintos"
      ]
    },
    {
      "cell_type": "code",
      "metadata": {
        "id": "hqOO0tG9Lajv",
        "outputId": "d1725ba7-6fc5-4580-87d7-666d19c3abba",
        "colab": {
          "base_uri": "https://localhost:8080/"
        }
      },
      "source": [
        "nombre=input(\"Cual es su nombre?: \")\n",
        "edad=input(\"Cual es su edad?\")\n",
        "print(nombre)\n",
        "print(edad)"
      ],
      "execution_count": null,
      "outputs": [
        {
          "output_type": "stream",
          "name": "stdout",
          "text": [
            "Cual es su nombre?: Gabriela\n",
            "Cual es su edad?57\n",
            "Gabriela\n",
            "57\n"
          ]
        }
      ]
    },
    {
      "cell_type": "markdown",
      "metadata": {
        "id": "C-A3Wy-lLbUF"
      },
      "source": [
        "**Ejercicio 4**\n",
        "\n",
        "Crear un programa que pregunte el nombre de usuario y un número entero. Imprima por pantalla en líneas distintas el nombre de usuario tantas veces como el número introducido."
      ]
    },
    {
      "cell_type": "code",
      "metadata": {
        "id": "j2NuNdyxLwhp",
        "outputId": "a0ae0757-b9d1-4b60-cc08-882fe59cf3af",
        "colab": {
          "base_uri": "https://localhost:8080/"
        }
      },
      "source": [
        "nombre=input(\"Cual es su nombre?: \")\n",
        "nombre+=\"\\n\"\n",
        "\n",
        "numero=int(input(\"Diga un numero entero\"))\n",
        "resultado=nombre*numero\n",
        "print(resultado)\n",
        "\n",
        "\n"
      ],
      "execution_count": null,
      "outputs": [
        {
          "output_type": "stream",
          "name": "stdout",
          "text": [
            "Cual es su nombre?: gaby\n",
            "Diga un numero entero5\n",
            "gaby\n",
            "gaby\n",
            "gaby\n",
            "gaby\n",
            "gaby\n",
            "\n"
          ]
        }
      ]
    },
    {
      "cell_type": "markdown",
      "metadata": {
        "id": "KF67il5GLx7h"
      },
      "source": [
        "**Ejercicio 5**\n",
        "\n",
        "Idem anterior, pero que también aparezcan las líneas numeradas."
      ]
    },
    {
      "cell_type": "code",
      "metadata": {
        "id": "iJ1IuVv2MVZ0",
        "outputId": "39e1983d-7d7e-4f1b-fe5a-a5b35bb28daf",
        "colab": {
          "base_uri": "https://localhost:8080/"
        }
      },
      "source": [
        "nombre=input(\"Cual es su nombre?: \")\n",
        "numero=int(input(\"Diga un numero entero\"))\n",
        "\n",
        "cont=0\n",
        "for i in nombre:\n",
        "  cont+=1\n",
        "  print(cont, \"-\",nombre)"
      ],
      "execution_count": null,
      "outputs": [
        {
          "output_type": "stream",
          "name": "stdout",
          "text": [
            "Cual es su nombre?: gaby\n",
            "Diga un numero entero5\n",
            "1 - gaby\n",
            "2 - gaby\n",
            "3 - gaby\n",
            "4 - gaby\n"
          ]
        }
      ]
    },
    {
      "cell_type": "markdown",
      "metadata": {
        "id": "rh28UJWbO-dL"
      },
      "source": [
        "**Ejercicio 6**\n",
        "\n",
        "Crear un programa que pregunte el nombre de usuario y se muestre por pantalla: `*nombre* tiene *n* letras`"
      ]
    },
    {
      "cell_type": "code",
      "metadata": {
        "id": "WxOHoJRwPxJG",
        "colab": {
          "base_uri": "https://localhost:8080/"
        },
        "outputId": "63bda554-e8f9-4af2-96a9-ecef61e2d2b5"
      },
      "source": [
        "nombre=input(\"Usuario: \")\n",
        "print(\"El nombre de usuario tiene \",len(nombre), \"letras\")"
      ],
      "execution_count": null,
      "outputs": [
        {
          "output_type": "stream",
          "name": "stdout",
          "text": [
            "Usuario: Gaby\n",
            "El nombre de usuario tiene  4 letras\n"
          ]
        }
      ]
    },
    {
      "cell_type": "markdown",
      "metadata": {
        "id": "T6O4oXLoPxhA"
      },
      "source": [
        "**Ejercicio 7**\n",
        "\n",
        "Crear un programa que realice la siguiente operación aritmética: `[ (3 + 2) / 2 * 5 ]^2`\n",
        "\n",
        "Imprima el resultado por pantalla."
      ]
    },
    {
      "cell_type": "code",
      "metadata": {
        "id": "Js485i6MRKCK",
        "colab": {
          "base_uri": "https://localhost:8080/"
        },
        "outputId": "884d136d-a49d-4c1c-dfdf-4feca5921178"
      },
      "source": [
        "n1=3\n",
        "n2=2\n",
        "n3=5\n",
        "\n",
        "sum=n1+n2\n",
        "\n",
        "div=sum/n2\n",
        "\n",
        "prod=div*n3\n",
        "\n",
        "pot=prod**n2\n",
        "\n",
        "print(\"El resultado es: \",pot)\n",
        "\n",
        "res=((n1 + n2)/n2 * n3)**n2\n",
        "\n",
        "print(\"El resultado es: \",res)"
      ],
      "execution_count": null,
      "outputs": [
        {
          "output_type": "stream",
          "name": "stdout",
          "text": [
            "El resultado es:  156.25\n",
            "El resultado es:  156.25\n"
          ]
        }
      ]
    },
    {
      "cell_type": "markdown",
      "metadata": {
        "id": "8MPGOM5GRKhM"
      },
      "source": [
        "**Ejercicio 8**\n",
        "\n",
        "Crear un programa que pida al usuario dos números enteros *m* y *n* y muestre por pantalla lo siguiente:\n",
        "\n",
        "`m dividido por n da c, con resto r`\n",
        "\n",
        "siendo m y n los números ingresados por el usuario, c el cociente y r el resto de la división.\n",
        "\n"
      ]
    },
    {
      "cell_type": "code",
      "metadata": {
        "id": "8cqsUDQsSiRv",
        "colab": {
          "base_uri": "https://localhost:8080/"
        },
        "outputId": "64c3d9a6-513c-49d2-e5e2-858ffb4b085e"
      },
      "source": [
        "from typing import no_type_check\n",
        "m=int(input(\"Ingrese un numero entero: \"))\n",
        "n=int(input(\"Ingrese otro numero entero: \"))\n",
        "c=m/n\n",
        "r=m%n\n",
        "print(m,\"dividido\",n, \"nos da\",c,\"con resto\",r)\n"
      ],
      "execution_count": null,
      "outputs": [
        {
          "output_type": "stream",
          "name": "stdout",
          "text": [
            "Ingrese un numero entero: 57\n",
            "Ingrese otro numero entero: 5\n",
            "57 dividido 5 nos da 11.4 con resto 2\n"
          ]
        }
      ]
    },
    {
      "cell_type": "markdown",
      "metadata": {
        "id": "oRa9STjZSinF"
      },
      "source": [
        "**Ejercicio 9**\n",
        "\n",
        "Crear un programa que pregunte al usuario una cantidad a invertir, el porcentaje de interés anual, y el número de años de inversión. Muestre por pantalla el interés obtenido en la inversión. Fórmula de interés obtenido =   capital x interés x años"
      ]
    },
    {
      "cell_type": "code",
      "metadata": {
        "id": "o1k1HJsBTgAn",
        "colab": {
          "base_uri": "https://localhost:8080/"
        },
        "outputId": "0ca7484f-61c6-4ddd-baff-9b7cbbaf3eb4"
      },
      "source": [
        "capital=int(input(\"Ingrese la cantidad de dinero a invertir: \"))\n",
        "interes=float(input(\"Ingrese el porcentaje de interes anual deseado: \"))\n",
        "anios=int(input(\"Ingrese la cantidad de años de inversion: \"))\n",
        "\n",
        "\n",
        "\n",
        "resul=capital*interes*anios\n",
        "\n",
        "print(\"El interes obtenido es: \", resul)\n",
        "\n",
        "\n"
      ],
      "execution_count": null,
      "outputs": [
        {
          "output_type": "stream",
          "name": "stdout",
          "text": [
            "Ingrese la cantidad de dinero a invertir: 360\n",
            "Ingrese el porcentaje de interes anual deseado: 0.3\n",
            "Ingrese la cantidad de años de inversion: 6\n",
            "El interes obtenido es:  648.0\n"
          ]
        }
      ]
    },
    {
      "cell_type": "markdown",
      "metadata": {
        "id": "9fp72vs7Tm5f"
      },
      "source": [
        "**Ejercicio 10**\n",
        "\n",
        "Una fábrica de juguetes produce payasos y ositos. La empresa de logística cobra por el peso de cada entrega.\n",
        "Sabiendo que cada payaso pesa 450 gr y cada osito 520g, crear un programa que pida las unidades vendidas de cada artículo y devuelva por pantalla el peso total del pedido a despachar."
      ]
    },
    {
      "cell_type": "code",
      "metadata": {
        "id": "-GPVWk2KU1hc",
        "colab": {
          "base_uri": "https://localhost:8080/"
        },
        "outputId": "b3c046f4-2aa9-405a-def4-d6c9bb1193a2"
      },
      "source": [
        "from IPython.core.display import clear_output\n",
        "\n",
        "\n",
        "canto=int(input(\"Cuantos ositos ingresaron?: \"))\n",
        "cantpa=int(input(\"Cuantos payasos ingresaron?: \"))\n",
        "uvp=canto * 420\n",
        "uvo=cantpa * 450\n",
        "print(\"El peso total del pedido a despachar es de: \", uvp+uvo,\"gramos\")\n"
      ],
      "execution_count": null,
      "outputs": [
        {
          "output_type": "stream",
          "name": "stdout",
          "text": [
            "Cuantos ositos ingresaron?: 4\n",
            "Cuantos payasos ingresaron?: 2\n",
            "El peso total del pedido a despachar es de:  2580 gramos\n"
          ]
        }
      ]
    }
  ]
}